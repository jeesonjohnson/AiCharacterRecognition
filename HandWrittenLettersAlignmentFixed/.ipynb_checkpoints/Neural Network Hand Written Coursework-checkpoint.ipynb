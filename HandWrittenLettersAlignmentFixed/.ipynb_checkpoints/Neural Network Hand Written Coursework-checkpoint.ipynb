{
 "cells": [
  {
   "cell_type": "markdown",
   "metadata": {},
   "source": [
    "# NN - Neural nets -NOTE THERE IS AN ERROR WITH FOLDER LENGTH ITS repeatign!!! its not abcde, have a look :)"
   ]
  },
  {
   "cell_type": "markdown",
   "metadata": {},
   "source": [
    "### Setting up the dataset, (SHOULD BE ONLY RUN ONCE)"
   ]
  },
  {
   "cell_type": "code",
   "execution_count": null,
   "metadata": {},
   "outputs": [],
   "source": [
    "import time\n",
    "import numpy as np\n",
    "import matplotlib.pyplot as plt\n",
    "import matplotlib.patches as mpatches\n",
    "from scipy.misc import imread, imresize, imsave\n",
    "from skimage.morphology import label\n",
    "from skimage.measure import regionprops\n",
    "from skimage.transform import resize\n",
    "\n",
    "class Extract_Letters:\n",
    "    def extractFile(self, filename):\n",
    "        image = imread(filename, 1)\n",
    "\n",
    "        # apply threshold in order to make the image binary\n",
    "        bw = (image < 120).astype(np.float)\n",
    "\n",
    "        # remove artifacts connected to image border\n",
    "        cleared = bw.copy()\n",
    "        # clear_border(cleared)\n",
    "\n",
    "        # label image regions\n",
    "        label_image = label(cleared, neighbors=8)\n",
    "        borders = np.logical_xor(bw, cleared)\n",
    "        label_image[borders] = -1\n",
    "\n",
    "        letters = list()\n",
    "        order = list()\n",
    "\n",
    "        for region in regionprops(label_image):\n",
    "            minr, minc, maxr, maxc = region.bbox\n",
    "            # skip small images\n",
    "#             if region.area > 40:\n",
    "            if maxr - minr > len(image) / 175:  # better to use height rather than area.\n",
    "                rect = mpatches.Rectangle((minc, minr), maxc - minc, maxr - minr,\n",
    "                                          fill=False, edgecolor='red', linewidth=2)\n",
    "                order.append(region.bbox)\n",
    "\n",
    "        # sort the detected characters left->right, top->bottom\n",
    "        lines = list()\n",
    "        first_in_line = ''\n",
    "        counter = 0\n",
    "\n",
    "        # worst case scenario there can be 1 character per line\n",
    "        for x in range(len(order)):\n",
    "            lines.append([])\n",
    "\n",
    "        for character in order:\n",
    "            if first_in_line == '':\n",
    "                first_in_line = character\n",
    "                lines[counter].append(character)\n",
    "            elif abs(character[0] - first_in_line[0]) < (first_in_line[2] - first_in_line[0]):\n",
    "                lines[counter].append(character)\n",
    "            elif abs(character[0] - first_in_line[0]) > (first_in_line[2] - first_in_line[0]):\n",
    "                first_in_line = character\n",
    "                counter += 1\n",
    "                lines[counter].append(character)\n",
    "\n",
    "        for x in range(len(lines)):\n",
    "            lines[x].sort(key=lambda tup: tup[1])\n",
    "\n",
    "        final = list()\n",
    "        prev_tr = 0\n",
    "        prev_line_br = 0\n",
    "\n",
    "        for i in range(len(lines)):\n",
    "            for j in range(len(lines[i])):\n",
    "                tl_2 = lines[i][j][1]\n",
    "                bl_2 = lines[i][j][0]\n",
    "                if tl_2 > prev_tr and bl_2 > prev_line_br:\n",
    "                    tl, tr, bl, br = lines[i][j]\n",
    "                    letter_raw = bw[tl:bl, tr:br]\n",
    "                    letter_norm = resize(letter_raw, (28, 28))\n",
    "                    final.append(letter_norm)\n",
    "                    prev_tr = lines[i][j][3]\n",
    "                if j == (len(lines[i]) - 1):\n",
    "                    prev_line_br = lines[i][j][2]\n",
    "            prev_tr = 0\n",
    "            tl_2 = 0\n",
    "            print ('Characters recognized: ' + str(len(final)))\n",
    "        return final\n",
    "    \n",
    "    def __init__(self):\n",
    "        print(\"Extracting characters...\")\n",
    "\n",
    "\n",
    "start_time = time.time()\n",
    "extract = Extract_Letters()\n",
    "training_files = ['./ocr/training/train2.png']##, './ocr/training/train2.png','./ocr/training/train3.png']\n",
    "\n",
    "folder_string = 'abcdefghijklmnopqrstuvwxyz'\n",
    "name_counter = 600\n",
    "for files in training_files:\n",
    "    letters = extract.extractFile(files)\n",
    "    string_counter = 0\n",
    "\n",
    "    for i in letters:\n",
    "        if string_counter > len(folder_string)-1:\n",
    "            string_counter = 0\n",
    "        imsave('./training_type/' + str(folder_string[string_counter]) + '/' + str(name_counter) + '_snippet.png', i)\n",
    "\n",
    "        string_counter += 1\n",
    "        name_counter += 1\n",
    "\n",
    "print (time.time() - start_time, \"seconds\" )"
   ]
  },
  {
   "cell_type": "code",
   "execution_count": null,
   "metadata": {},
   "outputs": [],
   "source": [
    "# # !pip install scipy==1.1.0\n",
    "# ## For image recognition\n",
    "# import numpy as np\n",
    "# import matplotlib.pyplot as plt\n",
    "# import matplotlib.cm as cm\n",
    "# %matplotlib inline\n",
    "\n",
    "# ##For image analysis\n",
    "# from skimage.io import imread\n",
    "# from skimage.transform import resize\n",
    "\n",
    "# ##Library for extracting all images in a directory\n",
    "# import glob\n",
    "# import sys\n",
    "\n",
    "# ## CONSTANTS\n",
    "# folder_strings = 'abcdefghijklmnopqrstuvwxyz'\n",
    "# smallestNumberOfElementsInEachCollection=sys.maxsize;\n",
    "\n",
    "# def printImage(dataImage,letterArray,index):\n",
    "#     if(len(dataImage.shape)<=2):\n",
    "#         overall=[]\n",
    "#         temp = []\n",
    "#         counter = 0\n",
    "#         for x in range(len(dataImage[index])):\n",
    "#             temp.append(dataImage[index][x])\n",
    "#             counter=counter+1\n",
    "#             if(counter==20):\n",
    "#                 overall.append(temp)\n",
    "#                 counter=0\n",
    "#                 temp=[]\n",
    "            \n",
    "#         overall=np.asarray(overall)\n",
    "#         plt.imshow(overall, cmap='Greys', vmin=0, vmax=255)\n",
    "#         plt.suptitle(f\"Letter: {letterArray[index]}\", fontsize=20)\n",
    "#         plt.show()\n",
    "#         print(f\"Letter: {letterArray[index]}\")\n",
    "#         return\n",
    "    \n",
    "#     plt.imshow(dataImage[index], cmap='as_gray', vmin=0, vmax=255)\n",
    "#     plt.suptitle(f\"Letter: {letterArray[index]}\", fontsize=20)\n",
    "#     plt.show()\n",
    "\n",
    "# def printAllImagesInDataSetWithPrediction(dataImage,letterArray,model,printImageToScreen=True,skip=0):\n",
    "#     local=smallestNumberOfElementsInEachCollection\n",
    "#     if(skip>0):\n",
    "#         local=skip\n",
    "#     print(len(dataImage))\n",
    "#     for x in range(0,len(dataImage),local):\n",
    "#         if(printImageToScreen):\n",
    "#             printImage(lettersArray,lettersTarget,x)\n",
    "#         print(f\"The Model predicted {model.predict(lettersArray[x].reshape(1,-1))}, actual {lettersTarget[x]}\")\n",
    "        \n",
    "\n",
    "# # This method is vital to ensure that appropraite parsable data is extracted\n",
    "# def generateTrainingDataArray(training_type):\n",
    "#     global lettersTarget\n",
    "#     global smallestNumberOfElementsInEachCollection\n",
    "#     folder_strings = 'abcdefghijklmnopqrstuvwxyz'\n",
    "#     lettersTarget=[]\n",
    "#     overallData=[]\n",
    "#     for letter in folder_strings:\n",
    "#         filenames = glob.glob(f\"training_type/{letter}/*.png\")\n",
    "#         for file in filenames:\n",
    "#             img = imread(file,as_grey=True)\n",
    "#             arr = np.asarray(img)\n",
    "#             arr=arr.flatten()# Make dimension of array a singular arrary(SO normally its 20x20 array into 1d of size 400)\n",
    "            \n",
    "#             # Converts the image to numbers, then labels in the array letters\n",
    "#             overallData.append(arr)\n",
    "#             lettersTarget.append(letter)\n",
    "#         smallestNumberOfElementsInEachCollection=min(smallestNumberOfElementsInEachCollection,len(filenames))\n",
    "#     return np.asarray(overallData)\n",
    "            \n",
    "# lettersTarget=[]\n",
    "# lettersArray=generateTrainingDataArray(\"training_type\")\n",
    "# print(f\"Finished generating the training dataset, dim of array {lettersArray.shape}\")"
   ]
  },
  {
   "cell_type": "markdown",
   "metadata": {},
   "source": [
    "## Extracting Training Data"
   ]
  },
  {
   "cell_type": "code",
   "execution_count": 1,
   "metadata": {},
   "outputs": [],
   "source": [
    "import csv\n",
    "import numpy as np\n",
    "import string\n",
    "\n",
    "##We needed to include skipDataParam otherwise dataset is too large for my system memory\n",
    "def extractHandWrittenLettersFromCSV(csv_File_Path,skipData):\n",
    "    global lettersTarget\n",
    "    pictureArray=[]\n",
    "    alphabets_mapper = {0:'a',1:'b',2:'c',3:'d',4:'e',5:'f',6:'g',7:'h',8:'i',9:'j',10:'k',11:'l',12:'m',13:'n',14:'o',15:'p',16:'q',17:'r',18:'s',19:'t',20:'u',21:'v',22:'w',23:'x',24:'y',25:'z'}\n",
    "    with open(csv_File_Path,newline=\"\") as csvfile:\n",
    "        reader = csv.reader(csvfile, delimiter=',', quotechar='|',quoting=csv.QUOTE_NONNUMERIC)\n",
    "        counter = 0\n",
    "        for row in reader:\n",
    "            if(counter==skipData):\n",
    "                digit_name=row.pop(0)\n",
    "                lettersTarget.append(alphabets_mapper[int(digit_name)])\n",
    "                pictureArray.append(np.asarray(row))\n",
    "                counter=0\n",
    "            counter=counter+1\n",
    "    return np.asarray(pictureArray)\n",
    "    \n",
    "lettersTarget=[]\n",
    "lettersArray = extractHandWrittenLettersFromCSV(\"A_ZHandwrittenCharacters.csv\",3)##Only getting every 7th letter since dataset is very large\n"
   ]
  },
  {
   "cell_type": "markdown",
   "metadata": {},
   "source": [
    "## Extracting Testing Data"
   ]
  },
  {
   "cell_type": "markdown",
   "metadata": {},
   "source": [
    "Below are the methods for extracting the testing data"
   ]
  },
  {
   "cell_type": "code",
   "execution_count": 2,
   "metadata": {},
   "outputs": [
    {
     "name": "stdout",
     "output_type": "stream",
     "text": [
      "Extracting characters...\n",
      "ocr/testing/testData.txt\n"
     ]
    },
    {
     "name": "stderr",
     "output_type": "stream",
     "text": [
      "/home/jeeson/anaconda3/lib/python3.7/site-packages/ipykernel_launcher.py:23: DeprecationWarning: `imread` is deprecated!\n",
      "`imread` is deprecated in SciPy 1.0.0, and will be removed in 1.2.0.\n",
      "Use ``imageio.imread`` instead.\n"
     ]
    },
    {
     "name": "stdout",
     "output_type": "stream",
     "text": [
      "Totally recognised 718 characters\n"
     ]
    },
    {
     "name": "stderr",
     "output_type": "stream",
     "text": [
      "/home/jeeson/anaconda3/lib/python3.7/site-packages/ipykernel_launcher.py:141: DeprecationWarning: `imsave` is deprecated!\n",
      "`imsave` is deprecated in SciPy 1.0.0, and will be removed in 1.2.0.\n",
      "Use ``imageio.imwrite`` instead.\n",
      "/home/jeeson/anaconda3/lib/python3.7/site-packages/skimage/io/_io.py:48: UserWarning: `as_grey` has been deprecated in favor of `as_gray`\n",
      "  warn('`as_grey` has been deprecated in favor of `as_gray`')\n"
     ]
    }
   ],
   "source": [
    "\n",
    "## For image recognition\n",
    "import matplotlib.cm as cm\n",
    "%matplotlib inline\n",
    "import numpy as np\n",
    "import matplotlib.pyplot as plt\n",
    "import matplotlib.patches as mpatches\n",
    "\n",
    "##For image analysis\n",
    "from skimage.io import imread as mainImageRead\n",
    "from skimage.transform import resize\n",
    "from scipy.misc import imread, imresize, imsave\n",
    "from skimage.morphology import label\n",
    "from skimage.measure import regionprops\n",
    "from skimage.transform import resize\n",
    "\n",
    "##Library for extracting all images in a directory\n",
    "import glob\n",
    "import re\n",
    "\n",
    "\n",
    "class Extract_Letters:\n",
    "    def extractFile(self, filename):\n",
    "        image = imread(filename, 1)\n",
    "\n",
    "        # apply threshold in order to make the image binary\n",
    "        bw = (image < 120).astype(np.float)\n",
    "\n",
    "        # remove artifacts connected to image border\n",
    "        cleared = bw.copy()\n",
    "        # clear_border(cleared)\n",
    "\n",
    "#         # label image regions\n",
    "        label_image = label(cleared, neighbors=4)\n",
    "        borders = np.logical_xor(bw, cleared)\n",
    "        label_image[borders] = -1\n",
    "        \n",
    "        letters = list()\n",
    "        order = list()\n",
    "\n",
    "        for region in regionprops(label_image):\n",
    "            minr, minc, maxr, maxc = region.bbox\n",
    "            # skip small images\n",
    "            if region.area > 40:\n",
    "#             if maxr - minr > len(image) / 250:##175 MAKES IT IDEAL FOR DATA EXTRACTION!\n",
    "                rect = mpatches.Rectangle((minc, minr), maxc - minc, maxr - minr,\n",
    "                                          fill=False, edgecolor='red', linewidth=2)\n",
    "                order.append(region.bbox)\n",
    "\n",
    "        # sort the detected characters left->right, top->bottom\n",
    "        lines = list()\n",
    "        first_in_line = ''\n",
    "        counter = 0\n",
    "\n",
    "        # worst case scenario there can be 1 character per line\n",
    "        for x in range(len(order)):\n",
    "            lines.append([])\n",
    "\n",
    "        for character in order:\n",
    "            if first_in_line == '':\n",
    "                first_in_line = character\n",
    "                lines[counter].append(character)\n",
    "            elif abs(character[0] - first_in_line[0]) < (first_in_line[2] - first_in_line[0]):\n",
    "                lines[counter].append(character)\n",
    "            elif abs(character[0] - first_in_line[0]) > (first_in_line[2] - first_in_line[0]):\n",
    "                first_in_line = character\n",
    "                counter += 1\n",
    "                lines[counter].append(character)\n",
    "\n",
    "        for x in range(len(lines)):\n",
    "            lines[x].sort(key=lambda tup: tup[1])\n",
    "\n",
    "        final = list()\n",
    "        prev_tr = 0\n",
    "        prev_line_br = 0\n",
    "\n",
    "        for i in range(len(lines)):\n",
    "            for j in range(len(lines[i])):\n",
    "                tl_2 = lines[i][j][1]\n",
    "                bl_2 = lines[i][j][0]\n",
    "                if tl_2 > prev_tr and bl_2 > prev_line_br:\n",
    "                    tl, tr, bl, br = lines[i][j]\n",
    "                    letter_raw = bw[tl:bl, tr:br]\n",
    "                    letter_norm = resize(letter_raw, (20, 20))\n",
    "                    final.append(letter_norm)\n",
    "                    prev_tr = lines[i][j][3]\n",
    "                if j == (len(lines[i]) - 1):\n",
    "                    prev_line_br = lines[i][j][2]\n",
    "            prev_tr = 0\n",
    "            tl_2 = 0\n",
    "            ##print ('Characters recognized: ' + str(len(final)))\n",
    "        print(f\"Totally recognised {len(final)} characters\")\n",
    "        \n",
    "        \n",
    "        \n",
    "        final = convertTestDataToDimensionOfTraining(final)\n",
    "\n",
    "        return final\n",
    "    \n",
    "    def __init__(self):\n",
    "        print(\"Extracting characters...\")\n",
    "\n",
    "\n",
    "################################## Extracting training data #############################################\n",
    "\n",
    "# Global values\n",
    "trainingDirectory = \"ocr/testing/\"\n",
    "testingCreatedDirectory = \"ocr/beingTested/\"\n",
    "testingFileNames=[]\n",
    "\n",
    "#Get associated testing data\n",
    "def getTestingDataText(pureFileName):\n",
    "    ##Method for getting associated text \n",
    "    associatedTextLocation = glob.glob(f\"{trainingDirectory+pureFileName}*.txt\")[0]\n",
    "    print(associatedTextLocation)\n",
    "    fileReader = open(associatedTextLocation, 'r')\n",
    "    textFileArray = fileReader.readlines()\n",
    "    fileReader.close()\n",
    "    textFileArray=\"\".join(textFileArray).lower()##Removes new line and makes it lowercase\n",
    "    textFileArray = re.sub('[^0-9a-zA-Z()]+', '', textFileArray) ##Replace everything that is not letternumeric\n",
    "    textFileArray=list(textFileArray)\n",
    "    return textFileArray\n",
    "\n",
    "##Generate array of elements into array\n",
    "def generateTestingDataArray():\n",
    "    global lettersTestTarget\n",
    "    global testingFileNames\n",
    "    extract = Extract_Letters()\n",
    "    allTestingFiles = glob.glob(f\"{trainingDirectory}*.png\")\n",
    "    finalImagesResult=[]\n",
    "    finalTextResult=[]\n",
    "    counter = 0\n",
    "    for fileName in allTestingFiles:\n",
    "        pureFileName=fileName.replace(\".png\",\"\").replace(trainingDirectory,\"\")\n",
    "        testingText = getTestingDataText(pureFileName) ##Returns the array of strings in the associated text\n",
    "        lettersTestTarget.append(testingText)\n",
    "        testingFileNames.append(pureFileName)\n",
    "        \n",
    "        extractedImages=extract.extractFile(fileName)\n",
    "        imageNumericalArray=[]\n",
    "        for image in extractedImages:\n",
    "            imsave(f\"{testingCreatedDirectory}{counter}.png\", image)\n",
    "            img = mainImageRead(f\"{testingCreatedDirectory}{counter}.png\",as_grey=True)\n",
    "            arr = np.asarray(img)\n",
    "            arr=arr.flatten()# Make dimension of array a singular arrary(SO normally its 28x28 array into 1d of size 400)\n",
    "            counter=counter+1\n",
    "            # Converts the image to numbers, then labels in the array letters\n",
    "            imageNumericalArray.append(arr)\n",
    "        finalImagesResult.append(np.asarray(imageNumericalArray))\n",
    "    return np.asarray(finalImagesResult)\n",
    "\n",
    "\n",
    "##Function to pass into numpy array, can ignore\n",
    "def pad_with(vector, pad_width, iaxis, kwargs):\n",
    "    pad_value = kwargs.get('padder', 10)\n",
    "    vector[:pad_width[0]] = pad_value\n",
    "    vector[-pad_width[1]:] = pad_value\n",
    "\n",
    "##Pads testing data to work with training dataset\n",
    "def convertTestDataToDimensionOfTraining(data):\n",
    "    finalResult=[]  \n",
    "    for element in range(len(data)):\n",
    "        finalResult.append(np.pad(data[element], 4, pad_with,padder=0))\n",
    "    return finalResult\n",
    "            \n",
    "lettersTestTarget=[]\n",
    "lettersTestArray=generateTestingDataArray()\n"
   ]
  },
  {
   "cell_type": "markdown",
   "metadata": {},
   "source": [
    "# Training the Neural Network"
   ]
  },
  {
   "cell_type": "markdown",
   "metadata": {},
   "source": [
    "We need to first alter the data to work with the keras and tensor flow"
   ]
  },
  {
   "cell_type": "code",
   "execution_count": 3,
   "metadata": {},
   "outputs": [
    {
     "name": "stderr",
     "output_type": "stream",
     "text": [
      "Using TensorFlow backend.\n"
     ]
    },
    {
     "name": "stdout",
     "output_type": "stream",
     "text": [
      "(124150,)\n",
      "(124150, 28, 28, 1)\n"
     ]
    }
   ],
   "source": [
    "## Import the appropraite libraries\n",
    "from keras.models import Sequential\n",
    "from keras.layers import Dense\n",
    "from keras.layers import Dropout\n",
    "from keras.layers import Flatten\n",
    "from keras.layers.convolutional import Conv2D\n",
    "from keras.layers.convolutional import MaxPooling2D\n",
    "from keras.utils import to_categorical\n",
    "from keras import backend as K\n",
    "from keras.utils import np_utils\n",
    "from sklearn.model_selection import train_test_split\n",
    "import numpy as np\n",
    "\n",
    "\n",
    "############################# Define methods for manipulating data to fit library###############################\n",
    "def letterConverter(arr,convert=\"number\"):\n",
    "    alphabetMapper={\"a\":0,\"b\":1,\"c\":2,\"d\":3,\"e\":4,\"f\":5,\"g\":6,\"h\":7,\"i\":8,\"j\":9,\"k\":10,\"l\":11,\"m\":12,\"n\":13,\"o\":14,\"p\":15,\"q\":16,\"r\":17,\"s\":18,\"t\":19,\"u\":20,\"v\":21,\"w\":22,\"x\":23,\"y\":24,\"z\":25,\"1\":26,\"2\":27,\"3\":28,\"4\":29,\"5\":30,\"6\":31,\"7\":32,\"8\":33,\"9\":34,\"(\":2,\")\":2,\"0\":14}\n",
    "    temp=[]\n",
    "    for letter in arr:\n",
    "        if(convert==\"number\"):\n",
    "            temp.append(alphabetMapper[letter])\n",
    "        else:\n",
    "            for letterAlphabet,alphabetNumber in alphabetMapper.items():\n",
    "                if(alphabetNumber==letter):\n",
    "                    temp.append(letterAlphabet)\n",
    "                    break\n",
    "    if(convert==\"number\"):\n",
    "        return np.asarray(temp)\n",
    "    return temp\n",
    "\n",
    "\n",
    "trainTarget=letterConverter(lettersTarget)##Neural net is configured to accept numeric outputs\n",
    "trainLetter=lettersArray.reshape(lettersArray.shape[0], 28, 28, 1).astype('float32')\n",
    "trainLetter=trainLetter/255##This ensures the neural net accepts values between 0 and 1\n",
    "print(trainTarget.shape)\n",
    "print(trainLetter.shape)\n",
    "\n"
   ]
  },
  {
   "cell_type": "markdown",
   "metadata": {},
   "source": [
    "We now define the strucutre of the model, and save the strucutre of the model"
   ]
  },
  {
   "cell_type": "code",
   "execution_count": 4,
   "metadata": {},
   "outputs": [
    {
     "name": "stdout",
     "output_type": "stream",
     "text": [
      "28 784 26\n"
     ]
    }
   ],
   "source": [
    "folder_strings = 'abcdefghijklmnopqrstuvwxyz'\n",
    "\n",
    "imageDimension=int(len(trainLetter[0])**2)\n",
    "imageXDimension=int(np.sqrt(imageDimension))\n",
    "sizeOfOutputLayer=len(folder_strings)\n",
    "print(imageXDimension,imageDimension,sizeOfOutputLayer)\n",
    "\n",
    "#############################Defining the structure of the model #########################\n",
    "\n",
    "# ## Building the model, with  3 total layers, and 2 hidden layers with 64 neurons each,\n",
    "# ## The activation function being used is the relu function\n",
    "# # The output layer has 10 neurons as the output since 10 digits, using softmax\n",
    "# create model\n",
    "model = Sequential()\n",
    "model.add(Conv2D(32, (5, 5), input_shape=(imageXDimension, imageXDimension, 1), activation='relu'))\n",
    "model.add(MaxPooling2D(pool_size=(2, 2)))\n",
    "model.add(Dropout(0.2))\n",
    "model.add(Flatten())\n",
    "model.add(Dense(128, activation='relu'))\n",
    "model.add(Dense(sizeOfOutputLayer, activation='softmax'))\n",
    "\n",
    "################################ Saving the model strucutre ###############################################\n",
    "\n",
    "##The loss function measure the error of the function\n",
    "## The optimizer is responsible for tryign to correct the errors present\n",
    "model.compile(optimizer=\"adam\",\n",
    "             loss=\"categorical_crossentropy\",\n",
    "             metrics=[\"accuracy\"])\n"
   ]
  },
  {
   "cell_type": "markdown",
   "metadata": {},
   "source": [
    "We train the model, to the training dataset"
   ]
  },
  {
   "cell_type": "code",
   "execution_count": 5,
   "metadata": {},
   "outputs": [
    {
     "name": "stdout",
     "output_type": "stream",
     "text": [
      "Epoch 1/10\n",
      " - 33s - loss: 0.3570 - accuracy: 0.9020\n",
      "Epoch 2/10\n",
      " - 32s - loss: 0.1195 - accuracy: 0.9664\n",
      "Epoch 3/10\n",
      " - 32s - loss: 0.0882 - accuracy: 0.9755\n",
      "Epoch 4/10\n",
      " - 30s - loss: 0.0705 - accuracy: 0.9798\n",
      "Epoch 5/10\n",
      " - 31s - loss: 0.0579 - accuracy: 0.9830\n",
      "Epoch 6/10\n",
      " - 31s - loss: 0.0500 - accuracy: 0.9853\n",
      "Epoch 7/10\n",
      " - 35s - loss: 0.0425 - accuracy: 0.9872\n",
      "Epoch 8/10\n",
      " - 35s - loss: 0.0356 - accuracy: 0.9891\n",
      "Epoch 9/10\n",
      " - 32s - loss: 0.0309 - accuracy: 0.9904\n",
      "Epoch 10/10\n",
      " - 26s - loss: 0.0275 - accuracy: 0.9912\n"
     ]
    },
    {
     "data": {
      "text/plain": [
       "<keras.callbacks.callbacks.History at 0x7fb1d3f6dd90>"
      ]
     },
     "execution_count": 5,
     "metadata": {},
     "output_type": "execute_result"
    }
   ],
   "source": [
    "##Train the model\n",
    "#Note hte to_categoricl converts the number say 2 into [0,0,1,0,0,0,0,0,0,0]. Since it reflects what the final output layer should look like\n",
    "##And we have currently defined the output layer to have 10 numbers, as such the output length is that long\n",
    "model.fit(trainLetter,\n",
    "         np_utils.to_categorical(trainTarget),\n",
    "          epochs=10,#How many times the model should adjust its weights on the dataset to train on\n",
    "          batch_size=200,#Represents the number of samples per gradient update for the training\n",
    "          verbose=2\n",
    "         )"
   ]
  },
  {
   "cell_type": "markdown",
   "metadata": {},
   "source": [
    "#### Methods for calulcating metrics :)"
   ]
  },
  {
   "cell_type": "code",
   "execution_count": 6,
   "metadata": {},
   "outputs": [],
   "source": [
    "from IPython.display import Markdown, display\n",
    "def printmd(string):\n",
    "    display(Markdown(string))\n",
    "\n",
    "#Remember that printmd is just but cooler looking :)\n",
    "from sklearn import metrics\n",
    "import seaborn as sn\n",
    "import pandas as pd\n",
    "from sklearn.model_selection import cross_val_score\n",
    "from sklearn.model_selection import cross_val_predict\n",
    "from sklearn.metrics import confusion_matrix\n",
    "from sklearn.metrics import precision_score, recall_score , f1_score\n",
    "from sklearn.model_selection import train_test_split\n",
    "from sklearn.metrics import roc_curve\n",
    "from sklearn.metrics import auc\n",
    "from sklearn.model_selection import cross_val_predict\n",
    "\n",
    "def printConfusionMatrixToScreen(confusionMatrix):\n",
    "    print(\"As pure print\")\n",
    "    for x in range(len(confusionMatrix)):\n",
    "        print(\"[\",end=\"\")\n",
    "        for y in range(len(confusionMatrix[x])):\n",
    "            print(f\"|{confusionMatrix[x][y]}|\",end=\"\")\n",
    "        print(\"]\")\n",
    "      \n",
    "      \n",
    "def plotConfusionMatrix(prediction,target,fileName):\n",
    "    confusionMatrix=confusion_matrix(target,prediction)\n",
    "    df_cm = pd.DataFrame(confusionMatrix, index = [i for i in range(len(confusionMatrix[0]))],\n",
    "                  columns = [i for i in range(len(confusionMatrix[0]))])\n",
    "    plt.figure(figsize = (24,14))\n",
    "    plt.suptitle(f\"{fileName[0].upper()+fileName[1:]} Confusion Matrix\", fontsize=50)\n",
    "    sn.heatmap(df_cm, annot=True)\n",
    "    plt.show()\n",
    "    ##printConfusionMatrixToScreen(confusionMatrix)\n",
    "\n",
    "    \n",
    "def calculateAccuracyMetrics(prediction,target):\n",
    "    printmd(f\"**Accuracy:** {metrics.accuracy_score(target,prediction)}\\n\")\n",
    "    printmd(f\"**Precision:** {precision_score(target, prediction,average='weighted',zero_division=1)}\")\n",
    "    printmd(f\"**Recall:** {recall_score(target, prediction,average='weighted')}\")\n",
    "    printmd(f\"**F1 score:** {f1_score(target, prediction,average='weighted')}\")\n"
   ]
  },
  {
   "cell_type": "markdown",
   "metadata": {},
   "source": [
    "## Calculate Appropriate Metrics"
   ]
  },
  {
   "cell_type": "code",
   "execution_count": 7,
   "metadata": {},
   "outputs": [
    {
     "ename": "NameError",
     "evalue": "name 'letterArray' is not defined",
     "output_type": "error",
     "traceback": [
      "\u001b[0;31m---------------------------------------------------------------------------\u001b[0m",
      "\u001b[0;31mNameError\u001b[0m                                 Traceback (most recent call last)",
      "\u001b[0;32m<ipython-input-7-9997d1e1b8c0>\u001b[0m in \u001b[0;36m<module>\u001b[0;34m\u001b[0m\n\u001b[1;32m     26\u001b[0m \u001b[0;31m# lettersTestArray=generateTestingDataArray()\u001b[0m\u001b[0;34m\u001b[0m\u001b[0;34m\u001b[0m\u001b[0;34m\u001b[0m\u001b[0m\n\u001b[1;32m     27\u001b[0m \u001b[0;34m\u001b[0m\u001b[0m\n\u001b[0;32m---> 28\u001b[0;31m \u001b[0mprintImage\u001b[0m\u001b[0;34m(\u001b[0m\u001b[0mletterArray\u001b[0m\u001b[0;34m[\u001b[0m\u001b[0;36m0\u001b[0m\u001b[0;34m]\u001b[0m\u001b[0;34m)\u001b[0m\u001b[0;34m\u001b[0m\u001b[0;34m\u001b[0m\u001b[0m\n\u001b[0m\u001b[1;32m     29\u001b[0m \u001b[0mprint\u001b[0m\u001b[0;34m(\u001b[0m\u001b[0mlen\u001b[0m\u001b[0;34m(\u001b[0m\u001b[0mlettersTestTarget\u001b[0m\u001b[0;34m[\u001b[0m\u001b[0;36m0\u001b[0m\u001b[0;34m]\u001b[0m\u001b[0;34m)\u001b[0m\u001b[0;34m)\u001b[0m\u001b[0;34m\u001b[0m\u001b[0;34m\u001b[0m\u001b[0m\n\u001b[1;32m     30\u001b[0m \u001b[0mprintImage\u001b[0m\u001b[0;34m(\u001b[0m\u001b[0mlettersTestArray\u001b[0m\u001b[0;34m[\u001b[0m\u001b[0;36m0\u001b[0m\u001b[0;34m]\u001b[0m\u001b[0;34m,\u001b[0m\u001b[0mlettersTestTarget\u001b[0m\u001b[0;34m[\u001b[0m\u001b[0;36m0\u001b[0m\u001b[0;34m]\u001b[0m\u001b[0;34m,\u001b[0m\u001b[0;36m26\u001b[0m\u001b[0;34m)\u001b[0m\u001b[0;34m\u001b[0m\u001b[0;34m\u001b[0m\u001b[0m\n",
      "\u001b[0;31mNameError\u001b[0m: name 'letterArray' is not defined"
     ]
    }
   ],
   "source": [
    "def printImage(dataImage,letterArray,index):\n",
    "    if(len(dataImage.shape)<=2):\n",
    "        overall=[]\n",
    "        temp = []\n",
    "        counter = 0\n",
    "        for x in range(len(dataImage[index])):\n",
    "            temp.append(dataImage[index][x])\n",
    "            counter=counter+1\n",
    "            if(counter==28):\n",
    "                overall.append(temp)\n",
    "                counter=0\n",
    "                temp=[]\n",
    "            \n",
    "        overall=np.asarray(overall)\n",
    "        plt.imshow(overall, cmap='Greys', vmin=0, vmax=255)\n",
    "        plt.suptitle(f\"Letter: {letterArray[index]}\", fontsize=20)\n",
    "        plt.show()\n",
    "        print(f\"Letter: {letterArray[index]}\")\n",
    "        return\n",
    "    \n",
    "    plt.imshow(dataImage[index], cmap='as_gray', vmin=0, vmax=255)\n",
    "    plt.suptitle(f\"Letter: {letterArray[index]}\", fontsize=20)\n",
    "    plt.show()\n",
    "            \n",
    "# lettersTestTarget=[]\n",
    "# lettersTestArray=generateTestingDataArray()\n",
    "\n",
    "printImage(letterArray[0])\n",
    "print(len(lettersTestTarget[0]))\n",
    "printImage(lettersTestArray[0],lettersTestTarget[0],26)\n",
    "print(lettersTestTarget[0])"
   ]
  },
  {
   "cell_type": "code",
   "execution_count": 20,
   "metadata": {},
   "outputs": [
    {
     "name": "stdout",
     "output_type": "stream",
     "text": [
      "['h', 'e', 'l', 'l', 'o', 'm', 'y', 'n', 'a', 'n', 'b', 'e', 'i', 's', 'j', 'e', 'e', 's', 'o', 'n', 'j', 'h', 'n', 's', 'o', 'n', 't', 'h', 'i', 's', 'd', 'o', 'c', 'u', 'm', 'f', 'n', 't', 'i', 's', 'b', 'e', 'i', 'n', 'm', 'w', 'r', 'i', 't', 't', 'e', 'n', 't', 'o', 'a', 'c', 't', 'a', 's', 'v', 't', 'e', 's', 't', 'i', 'n', 'q', 'd', 'a', 't', 'a', 'f', 'o', 'b', 't', 'h', 'e', 'm', 'o', 'd', 'e', 'l', 's', 't', 'h', 'a', 't', 'h', 'a', 'v', 'e', 'b', 'e', 'e', 'n', 'c', 'r', 'e', 'a', 't', 'e', 'd', 'f', 'o', 'b', 't', 'h', 'e', 'a', 'r', 't', 'i', 'f', 'i', 'c', 'i', 'a', 'l', 'i', 'n', 't', 'e', 'l', 'l', 'i', 'g', 'e', 'n', 'c', 'e', 'c', 'o', 'u', 'r', 's', 'e', 'w', 'o', 'r', 'k', 'w', 'h', 'i', 'c', 'h', 'h', 'a', 's', 'i', 'm', 'p', 'l', 'e', 'm', 'e', 'n', 't', 'e', 'd', 'n', 'u', 'm', 'e', 'r', 'o', 'u', 's', 'a', 'r', 't', 'i', 'f', 'i', 'c', 'i', 'a', 'l', 'i', 'n', 'o', 'e', 'l', 'l', 'i', 'g', 'e', 'n', 'e', 'm', 'o', 'd', 'e', 'l', 's', 't', 'h', 'i', 's', 'o', 'o', 'c', 'u', 'm', 'e', 'n', 't', 'i', 's', 'w', 'r', 'i', 't', 't', 'e', 'n', 'q', 'v', 'h', 'a', 'n', 'o', 'a', 'n', 'd', 't', 'h', 'e', 'n', 's', 'c', 'a', 'n', 'n', 'e', 'd', 'o', 'n', 't', 'o', 't', 'h', 'e', 'c', 'o', 'm', 'p', 'u', 't', 'e', 'r', 'a', 's', 'a', 'p', 'n', 'g', 'f', 'i', 'l', 'f', 'w', 'h', 'i', 'c', 'h', 'c', 'a', 'n', 't', 'h', 'e', 'n', 'b', 'e', 'o', 'r', 'a', 'n', 's', 'l', 'a', 't', 'e', 'o', 'a', 'n', 'd', 'm', 'a', 'n', 'i', 'p', 'u', 'l', 'a', 't', 'e', 'd', 'b', 'v', 's', 'o', 'f', 't', 'w', 'a', 'b', 'e', 't', 'h', 'a', 't', 'e', 'x', 't', 'r', 'a', 'c', 't', 's', 't', 'h', 'e', 'a', 's', 's', 'o', 'c', 'i', 'a', 't', 'e', 'd', 'c', 'h', 'a', 'r', 'a', 'c', 't', 'e', 'r', 's', 't', 'h', 'e', 'c', 'h', 'a', 'r', 'a', 'c', 't', 'e', 'b', 's', 'a', 'r', 'e', 't', 'h', 'e', 'n', 'f', 'e', 'd', 'i', 'n', 'i', 'o', 't', 'h', 'e', 't', 'r', 'a', 'i', 'n', 'e', 'd', 'm', 'o', 'd', 'e', 'l', 'w', 'h', 'i', 'c', 'h', 'c', 'a', 'n', 't', 'h', 'e', 'n', 'm', 'a', 'k', 'e', 'a', 'p', 'r', 'e', 'd', 'i', 'c', 't', 'i', 'o', 'n', 'w', 'h', 'i', 'c', 'h', 'c', 'a', 'n', 't', 'h', 'e', 'n', 'b', 'e', 'u', 's', 'e', 'd', 't', 'o', 'c', 'a', 'l', 'c', 'u', 'l', 'a', 't', 'e', 'a', 'p', 'p', 'r', 'o', 'p', 'b', 'i', 'a', 't', 'e', 'm', 'e', 't', 'r', 'i', 'c', 's', 'a', 'b', 'o', 'u', 't', 'i', 'h', 'e', 'm', 'o', 'd', 'e', 'l', 's', 't', 'h', 'a', 't', 'w', 'e', 'r', 'e', 'c', 'r', 'e', 'a', 't', 'e', 'd', 'w', 'e', 'c', 'a', 'n', 't', 'h', 'e', 'n', 'u', 'm', 'p', 'a', 'r', 'e', 't', 'h', 'e', 'e', 'f', 'f', 'e', 'c', 't', 's', 'o', 'f', 'u', 's', 'i', 'n', 'g', 'i', 'h', 'i', 's', 't', 'e', 's', 't', 'i', 'n', 'g', 'd', 'a', 'i', 's', 'e', 't', 'o', 'n', 'd', 'i', 'f', 'f', 'e', 'r', 'e', 'n', 't', 'm', 'o', 'd', 'e', 'l', 's', 'o', 'a', 'n', 'd', 'c', 'o', 'n', 't', 'r', 'a', 's', 't', 't', 'h', 'e', 'm', 'b', 'e', 't', 'w', 'e', 'e', 'n', 'e', 'a', 'c', 'h', 'o', 't', 'h', 'e', 'r', 'a', 'r', 't', 'i', 'f', 'i', 'c', 'i', 'a', 'l', 'i', 'n', 't', 'e', 'l', 'l', 'i', 'g', 'e', 'n', 'c', 'e', 'i', 's', 'a', 'v', 'e', 'r', 'x', 'p', 'b', 'o', 'm', 'i', 's', 'i', 'n', 'g', 'f', 'i', 'e', 'l', 'd', 't', 'h', 'a', 't', 'w', 'i', 'l', 'l', 'h', 'a', 'v', 'e', 'a', 'h', 'u', 'q', 'e', 'e', 'f', 'f', 'e', 'c', 't', 'o', 'n', 'o', 'u', 'r', 'f', 'u', 't', 'u', 'b', 'f', 'a', 's', 'a', 'r', 't', 'i', 'f', 'i', 'c', 'i', 'a', 'l', 'i', 'n', 't', 'e', 'l', 'l', 'i', 'g', 'e', 'n', 'c', 'e', 'i', 's', 'i', 'n', 'c', 'o', 'r', 'p', 'o', 'r', 'a', 't', 'e', 'd', 'i', 'n', 't', 'o', 'o', 'l', 'd', 'e', 'r', 'i', 'n', 'd', 'u', 's', 't', 'r', 'i', 'e', 's']\n"
     ]
    },
    {
     "data": {
      "text/markdown": [
       "**Accuracy:** 0.3055555555555556\n"
      ],
      "text/plain": [
       "<IPython.core.display.Markdown object>"
      ]
     },
     "metadata": {},
     "output_type": "display_data"
    },
    {
     "data": {
      "text/markdown": [
       "**Precision:** 0.3121458898483631"
      ],
      "text/plain": [
       "<IPython.core.display.Markdown object>"
      ]
     },
     "metadata": {},
     "output_type": "display_data"
    },
    {
     "data": {
      "text/markdown": [
       "**Recall:** 0.3055555555555556"
      ],
      "text/plain": [
       "<IPython.core.display.Markdown object>"
      ]
     },
     "metadata": {},
     "output_type": "display_data"
    },
    {
     "data": {
      "text/markdown": [
       "**F1 score:** 0.3066278043553653"
      ],
      "text/plain": [
       "<IPython.core.display.Markdown object>"
      ]
     },
     "metadata": {},
     "output_type": "display_data"
    },
    {
     "data": {
      "image/png": "[encoded data removed]",
      "text/plain": [
       "<Figure size 1728x1008 with 2 Axes>"
      ]
     },
     "metadata": {
      "needs_background": "light"
     },
     "output_type": "display_data"
    }
   ],
   "source": [
    "##Below method makes a prediction for the given test data:\n",
    "\n",
    "for targetTestIndex in range(len(lettersTestTarget)):\n",
    "    targetLetters=letterConverter(lettersTestTarget[targetTestIndex])\n",
    "    adaptedLetters=lettersTestArray[targetTestIndex].reshape(lettersTestArray[targetTestIndex].shape[0], 28, 28, 1).astype('float32')\n",
    "    predictions = model.predict(adaptedLetters)\n",
    "    predictions = np.argmax(predictions, axis=1) ## Converting predictions to manipulatable format\n",
    "    \n",
    "    print(letterConverter(predictions,\"test\"))\n",
    "    # Differnet Evaluation Metrics\n",
    "    calculateAccuracyMetrics(predictions,targetLetters)\n",
    "    plotConfusionMatrix(predictions,targetLetters,testingFileNames[targetTestIndex])"
   ]
  }
 ],
 "metadata": {
  "kernelspec": {
   "display_name": "Python 3",
   "language": "python",
   "name": "python3"
  },
  "language_info": {
   "codemirror_mode": {
    "name": "ipython",
    "version": 3
   },
   "file_extension": ".py",
   "mimetype": "text/x-python",
   "name": "python",
   "nbconvert_exporter": "python",
   "pygments_lexer": "ipython3",
   "version": "3.7.4"
  }
 },
 "nbformat": 4,
 "nbformat_minor": 2
}
