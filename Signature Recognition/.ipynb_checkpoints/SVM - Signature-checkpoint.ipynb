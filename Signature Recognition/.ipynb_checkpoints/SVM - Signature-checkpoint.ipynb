{
 "cells": [
  {
   "cell_type": "markdown",
   "metadata": {},
   "source": [
    "# SVM Signature Recognition"
   ]
  },
  {
   "cell_type": "markdown",
   "metadata": {},
   "source": [
    "## First we extract and split the data elements from the training image."
   ]
  },
  {
   "cell_type": "markdown",
   "metadata": {},
   "source": [
    "General Functions"
   ]
  },
  {
   "cell_type": "code",
   "execution_count": 1,
   "metadata": {},
   "outputs": [],
   "source": [
    "##Note the new images are 28x28\n",
    "## For image recognition\n",
    "import numpy as np\n",
    "import matplotlib.pyplot as plt\n",
    "import matplotlib.cm as cm\n",
    "%matplotlib inline\n",
    "\n",
    "##For image analysis\n",
    "from skimage.io import imread\n",
    "from skimage.transform import resize\n",
    "\n",
    "##Library for extracting all images in a directory\n",
    "import glob\n",
    "import sys\n",
    "\n",
    "\n",
    "## CONSTANTS\n",
    "folder_strings = 'abcdefghijklmnopqrstuvwxyz'\n",
    "smallestNumberOfElementsInEachCollection=sys.maxsize;\n",
    "\n",
    "def printArrayImage(dataImage,letterArray,index):\n",
    "    if(len(dataImage.shape)<=2):\n",
    "        overall=[]\n",
    "        temp = []\n",
    "        counter = 0\n",
    "        for x in range(len(dataImage[index])):\n",
    "            temp.append(dataImage[index][x])\n",
    "            counter=counter+1\n",
    "            if(counter==28):\n",
    "                overall.append(temp)\n",
    "                counter=0\n",
    "                temp=[]\n",
    "            \n",
    "        overall=np.asarray(overall)\n",
    "        plt.imshow(overall, cmap='Greys', vmin=0, vmax=255)\n",
    "        plt.suptitle(f\"Letter: {letterArray[index]}\", fontsize=20)\n",
    "        plt.show()\n",
    "        print(f\"Letter: {letterArray[index]}\")\n",
    "        return\n",
    "    \n",
    "    plt.imshow(dataImage[index], cmap='as_gray', vmin=0, vmax=255)\n",
    "    plt.suptitle(f\"Letter: {letterArray[index]}\", fontsize=20)\n",
    "    plt.show()\n",
    "    \n",
    "def printImage(dataImage):\n",
    "# #     if(len(dataImage.shape)<=2):\n",
    "# #         overall=[]\n",
    "# #         temp = []\n",
    "# #         counter = 0\n",
    "# #         for x in range(len(dataImage[index])):\n",
    "# #             temp.append(dataImage[index][x])\n",
    "# #             counter=counter+1\n",
    "# #             if(counter==28):\n",
    "# #                 overall.append(temp)\n",
    "# #                 counter=0\n",
    "# #                 temp=[]\n",
    "            \n",
    "#         overall=np.asarray(overall)\n",
    "#         plt.imshow(overall, cmap='Greys', vmin=0, vmax=255)\n",
    "#         plt.suptitle(f\"Letter: {letterArray[index]}\", fontsize=20)\n",
    "#         plt.show()\n",
    "#         print(f\"Letter: {letterArray[index]}\")\n",
    "#         return\n",
    "    \n",
    "    plt.imshow(dataImage, cmap='as_gray', vmin=0, vmax=255)\n",
    "    plt.show()\n",
    "\n",
    "def printAllImagesInDataSetWithPrediction(dataImage,letterArray,model,printImageToScreen=True,skip=0):\n",
    "    local=smallestNumberOfElementsInEachCollection\n",
    "    if(skip>0):\n",
    "        local=skip\n",
    "    print(len(dataImage))\n",
    "    for x in range(0,len(dataImage),local):\n",
    "        if(printImageToScreen):\n",
    "            printImage(lettersArray,lettersTarget,x)\n",
    "        print(f\"The Model predicted {model.predict(lettersArray[x].reshape(1,-1))}, actual {lettersTarget[x]}\")\n"
   ]
  },
  {
   "cell_type": "markdown",
   "metadata": {},
   "source": [
    "#  Image extraction"
   ]
  },
  {
   "cell_type": "code",
   "execution_count": 2,
   "metadata": {},
   "outputs": [
    {
     "name": "stdout",
     "output_type": "stream",
     "text": [
      "Extracting characters...\n"
     ]
    },
    {
     "name": "stderr",
     "output_type": "stream",
     "text": [
      "/home/jeeson/anaconda3/lib/python3.7/site-packages/ipykernel_launcher.py:30: DeprecationWarning: `imread` is deprecated!\n",
      "`imread` is deprecated in SciPy 1.0.0, and will be removed in 1.2.0.\n",
      "Use ``imageio.imread`` instead.\n"
     ]
    },
    {
     "name": "stdout",
     "output_type": "stream",
     "text": [
      "Totally recognised 127 characters\n"
     ]
    },
    {
     "name": "stderr",
     "output_type": "stream",
     "text": [
      "/home/jeeson/anaconda3/lib/python3.7/site-packages/ipykernel_launcher.py:128: DeprecationWarning: `imsave` is deprecated!\n",
      "`imsave` is deprecated in SciPy 1.0.0, and will be removed in 1.2.0.\n",
      "Use ``imageio.imwrite`` instead.\n",
      "/home/jeeson/anaconda3/lib/python3.7/site-packages/skimage/io/_io.py:48: UserWarning: `as_grey` has been deprecated in favor of `as_gray`\n",
      "  warn('`as_grey` has been deprecated in favor of `as_gray`')\n"
     ]
    },
    {
     "name": "stdout",
     "output_type": "stream",
     "text": [
      "Totally recognised 20 characters\n",
      "Totally recognised 65 characters\n",
      "Totally recognised 45 characters\n",
      "Totally recognised 154 characters\n",
      "Totally recognised 124 characters\n",
      "{0: 'user3', 1: 'user1', 2: 'user4', 3: 'user2'}\n",
      "(535,)\n",
      "(535, 40000)\n"
     ]
    }
   ],
   "source": [
    "## For image recognition\n",
    "import matplotlib.cm as cm\n",
    "%matplotlib inline\n",
    "import numpy as np\n",
    "import matplotlib.pyplot as plt\n",
    "import matplotlib.patches as mpatches\n",
    "\n",
    "##For image analysis\n",
    "from skimage.io import imread as mainImageRead\n",
    "from skimage.transform import resize\n",
    "from scipy.misc import imread, imresize, imsave\n",
    "from skimage.morphology import label\n",
    "from skimage.measure import regionprops\n",
    "from skimage.transform import resize\n",
    "import skimage.segmentation as segment\n",
    "from skimage.measure import regionprops\n",
    "from scipy.ndimage.filters import gaussian_filter\n",
    "import skimage as skimage\n",
    "from sklearn.model_selection import train_test_split\n",
    "\n",
    "\n",
    "##Library for extracting all images in a directory\n",
    "import glob\n",
    "import re\n",
    "import os\n",
    "\n",
    "\n",
    "class Extract_Letters:\n",
    "    def extractFile(self, filename):\n",
    "        image = imread(filename, 1)\n",
    "\n",
    "        # apply threshold in order to make the image binary\n",
    "        bw = (image > 120).astype(np.float)\n",
    "\n",
    "        # remove artifacts connected to image border\n",
    "        cleared = bw.copy()\n",
    "        cleared = gaussian_filter(cleared, (2,1))\n",
    "        cleared = cleared < 1\n",
    "        segment.clear_border(cleared)\n",
    "\n",
    "\n",
    "        # label image regions\n",
    "        label_image = label(cleared, neighbors=4)\n",
    "        borders = np.logical_xor(bw, cleared)\n",
    "        label_image[borders] = -1\n",
    "        \n",
    "        letters = list()\n",
    "        order = list()\n",
    "\n",
    "        for region in regionprops(label_image):\n",
    "            minr, minc, maxr, maxc = region.bbox\n",
    "            # skip small images\n",
    "#             if region.area > 40:\n",
    "            if region.area > 80:##175 MAKES IT IDEAL FOR DATA EXTRACTION!\n",
    "                rect = mpatches.Rectangle((minc, minr), maxc - minc, maxr - minr,\n",
    "                                          fill=False, edgecolor='red', linewidth=2)\n",
    "                order.append(region.bbox)\n",
    "\n",
    "        # sort the detected characters left->right, top->bottom\n",
    "        lines = list()\n",
    "        first_in_line = ''\n",
    "        counter = 0\n",
    "\n",
    "        # worst case scenario there can be 1 character per line\n",
    "        for x in range(len(order)):\n",
    "            lines.append([])\n",
    "\n",
    "        for character in order:\n",
    "            if first_in_line == '':\n",
    "                first_in_line = character\n",
    "                lines[counter].append(character)\n",
    "            elif abs(character[0] - first_in_line[0]) < (first_in_line[2] - first_in_line[0]):\n",
    "                lines[counter].append(character)\n",
    "            elif abs(character[0] - first_in_line[0]) > (first_in_line[2] - first_in_line[0]):\n",
    "                first_in_line = character\n",
    "                counter += 1\n",
    "                lines[counter].append(character)\n",
    "\n",
    "        for x in range(len(lines)):\n",
    "            lines[x].sort(key=lambda tup: tup[1])\n",
    "\n",
    "        final = list()\n",
    "        prev_tr = 0\n",
    "        prev_line_br = 0\n",
    "\n",
    "        for i in range(len(lines)):\n",
    "            for j in range(len(lines[i])):\n",
    "                tl_2 = lines[i][j][1]\n",
    "                bl_2 = lines[i][j][0]\n",
    "                if tl_2 > prev_tr and bl_2 > prev_line_br:\n",
    "                    tl, tr, bl, br = lines[i][j]\n",
    "                    letter_raw = bw[tl:bl, tr:br]\n",
    "                    letter_norm = resize(letter_raw, (200, 200))\n",
    "                    final.append(letter_norm)\n",
    "                    prev_tr = lines[i][j][3]\n",
    "                if j == (len(lines[i]) - 1):\n",
    "                    prev_line_br = lines[i][j][2]\n",
    "            prev_tr = 0\n",
    "            tl_2 = 0\n",
    "            ##print ('Characters recognized: ' + str(len(final)))\n",
    "        print(f\"Totally recognised {len(final)} characters\")\n",
    "        return final\n",
    "    \n",
    "    def __init__(self):\n",
    "        print(\"Extracting characters...\")\n",
    "\n",
    "\n",
    "        \n",
    "        \n",
    "trainingSave = \"ocr/beingTrained/\"\n",
    "trainingDirectory = \"ocr/training/\"\n",
    "\n",
    "trainingFileNames = {}\n",
    "trainingTarget =[]\n",
    "trainingPicture =[]\n",
    "\n",
    "nonCorrectedNames = glob.glob(f\"{trainingDirectory}*\")\n",
    "counter = 0\n",
    "extract = Extract_Letters()\n",
    "for x in range(len(nonCorrectedNames)):\n",
    "    currentUserName = nonCorrectedNames[x][len(trainingDirectory):]\n",
    "    imagesDirectory = glob.glob(f\"{nonCorrectedNames[x]}/*.png\")\n",
    "    for imageLocation in imagesDirectory:\n",
    "        if not os.path.exists(trainingSave+currentUserName):\n",
    "            os.makedirs(trainingSave+currentUserName)\n",
    "        extractedSignature=extract.extractFile(imageLocation)\n",
    "        for signature in extractedSignature:\n",
    "            imsave(f\"{trainingSave}{currentUserName}/{counter}.png\", signature)\n",
    "            ##Extract the image\n",
    "            img = mainImageRead(f\"{trainingSave}{currentUserName}/{counter}.png\",as_grey=True)\n",
    "            arr = np.asarray(img)\n",
    "            arr=arr.flatten()\n",
    "            ##Add extracted image\n",
    "            trainingPicture.append(np.asarray(arr))\n",
    "            trainingTarget.append(x)\n",
    "            trainingFileNames[x] = currentUserName\n",
    "            \n",
    "            counter=counter+1\n",
    "        \n",
    "\n",
    "trainingTarget = np.asarray(trainingTarget)\n",
    "trainingPicture = np.asarray(trainingPicture)\n",
    "\n",
    "print(trainingFileNames)\n",
    "print(trainingTarget.shape)\n",
    "print(trainingPicture.shape)\n",
    "\n",
    "\n",
    "target_train, target_test, image_train, image_test = train_test_split(trainingTarget, trainingPicture, test_size=0.33, random_state=42)\n"
   ]
  },
  {
   "cell_type": "code",
   "execution_count": 3,
   "metadata": {},
   "outputs": [
    {
     "name": "stdout",
     "output_type": "stream",
     "text": [
      "177\n"
     ]
    }
   ],
   "source": [
    "print(len(image_test))"
   ]
  },
  {
   "cell_type": "markdown",
   "metadata": {},
   "source": [
    "## Generating the model"
   ]
  },
  {
   "cell_type": "code",
   "execution_count": 4,
   "metadata": {},
   "outputs": [
    {
     "name": "stdout",
     "output_type": "stream",
     "text": [
      "Accuracy, with 100% of test and target being training( I.e just checking if method is workig): 0.9887005649717514\n"
     ]
    }
   ],
   "source": [
    "# Import model KNN training model\n",
    "from sklearn.neighbors import KNeighborsClassifier\n",
    "# Import train_test_split function\n",
    "from sklearn.model_selection import train_test_split\n",
    "# Analysis metrics\n",
    "from sklearn import metrics\n",
    "from sklearn.utils import shuffle\n",
    "from sklearn import svm\n",
    "\n",
    "#Create KNN Classifier\n",
    "model =  svm.SVC(kernel='rbf')\n",
    "\n",
    "\n",
    "##Below is not really needed, but present instead corss-validation on test data is needed\n",
    "sigImageShuffled,targetShuffled = shuffle(image_train,target_train) ## Ensures non bias suffling\n",
    "\n",
    "model.fit(sigImageShuffled, targetShuffled)\n",
    "\n",
    "y_pred = model.predict(image_test)\n",
    "\n",
    "print(\"Accuracy, with 100% of test and target being training( I.e just checking if method is workig):\",metrics.accuracy_score(target_test, y_pred))\n"
   ]
  },
  {
   "cell_type": "code",
   "execution_count": 5,
   "metadata": {},
   "outputs": [],
   "source": [
    "from IPython.display import Markdown, display\n",
    "def printmd(string):\n",
    "    display(Markdown(string))\n",
    "\n",
    "#Remember that printmd is just but cooler looking :)\n",
    "from sklearn import metrics\n",
    "import seaborn as sn\n",
    "import pandas as pd\n",
    "from sklearn.model_selection import cross_val_score\n",
    "from sklearn.model_selection import cross_val_predict\n",
    "from sklearn.metrics import confusion_matrix\n",
    "from sklearn.metrics import precision_score, recall_score , f1_score\n",
    "from sklearn.model_selection import train_test_split\n",
    "from sklearn.metrics import roc_curve\n",
    "from sklearn.metrics import auc\n",
    "from sklearn.model_selection import cross_val_predict\n",
    "\n",
    "def printConfusionMatrixToScreen(confusionMatrix):\n",
    "    print(\"As pure print\")\n",
    "    for x in range(len(confusionMatrix)):\n",
    "        print(\"[\",end=\"\")\n",
    "        for y in range(len(confusionMatrix[x])):\n",
    "            print(f\"|{confusionMatrix[x][y]}|\",end=\"\")\n",
    "        print(\"]\")\n",
    "      \n",
    "      \n",
    "def plotConfusionMatrix(prediction,target,fileName):\n",
    "    confusionMatrix=confusion_matrix(target,prediction)\n",
    "    print(confusionMatrix)\n",
    "    df_cm = pd.DataFrame(confusionMatrix, index = [i for i in range(len(confusionMatrix[0]))],\n",
    "                  columns = [i for i in range(len(confusionMatrix[0]))])\n",
    "    plt.figure(figsize = (24,14))\n",
    "    plt.suptitle(f\"{fileName[0].upper()+fileName[1:]} Confusion Matrix\", fontsize=50)\n",
    "    sn.heatmap(df_cm, annot=True)\n",
    "    plt.show()\n",
    "    ##printConfusionMatrixToScreen(confusionMatrix)\n",
    "\n",
    "    \n",
    "def calculateAccuracyMetrics(prediction,target):\n",
    "    printmd(f\"**Accuracy:** {metrics.accuracy_score(target,prediction)}\\n\")\n",
    "    printmd(f\"**Precision:** {precision_score(target, prediction,average='weighted',zero_division=1)}\")\n",
    "    printmd(f\"**Recall:** {recall_score(target, prediction,average='weighted')}\")\n",
    "    printmd(f\"**F1 score:** {f1_score(target, prediction,average='weighted')}\")\n",
    "            \n",
    "def plotRocAucCurve(model,nonPredicted,prediction,target):\n",
    "    import sklearn.metrics as metrics\n",
    "    print(nonPredicted[::,1].shape)\n",
    "    # calculate the fpr and tpr for all thresholds of the classification\n",
    "    probs = model.predict_proba(nonPredicted)\n",
    "    preds = probs[:,1]\n",
    "    fpr, tpr, threshold = metrics.roc_curve(target, preds)\n",
    "    roc_auc = metrics.auc(fpr, tpr)\n",
    "\n",
    "    # method I: plt\n",
    "    import matplotlib.pyplot as plt\n",
    "    plt.title('Receiver Operating Characteristic')\n",
    "    plt.plot(fpr, tpr, 'b', label = 'AUC = %0.2f' % roc_auc)\n",
    "    plt.legend(loc = 'lower right')\n",
    "    plt.plot([0, 1], [0, 1],'r--')\n",
    "    plt.xlim([0, 1])\n",
    "    plt.ylim([0, 1])\n",
    "    plt.ylabel('True Positive Rate')\n",
    "    plt.xlabel('False Positive Rate')\n",
    "    plt.show()\n",
    "      "
   ]
  },
  {
   "cell_type": "code",
   "execution_count": 6,
   "metadata": {},
   "outputs": [
    {
     "data": {
      "text/markdown": [
       "**Accuracy:** 0.9887005649717514\n"
      ],
      "text/plain": [
       "<IPython.core.display.Markdown object>"
      ]
     },
     "metadata": {},
     "output_type": "display_data"
    },
    {
     "data": {
      "text/markdown": [
       "**Precision:** 0.9889656362790153"
      ],
      "text/plain": [
       "<IPython.core.display.Markdown object>"
      ]
     },
     "metadata": {},
     "output_type": "display_data"
    },
    {
     "data": {
      "text/markdown": [
       "**Recall:** 0.9887005649717514"
      ],
      "text/plain": [
       "<IPython.core.display.Markdown object>"
      ]
     },
     "metadata": {},
     "output_type": "display_data"
    },
    {
     "data": {
      "text/markdown": [
       "**F1 score:** 0.9887061509330887"
      ],
      "text/plain": [
       "<IPython.core.display.Markdown object>"
      ]
     },
     "metadata": {},
     "output_type": "display_data"
    },
    {
     "name": "stdout",
     "output_type": "stream",
     "text": [
      "[[47  0  1  0]\n",
      " [ 0 38  0  0]\n",
      " [ 0  0 46  0]\n",
      " [ 0  1  0 44]]\n"
     ]
    },
    {
     "data": {
      "image/png": "[encoded data removed]",
      "text/plain": [
       "<Figure size 1728x1008 with 2 Axes>"
      ]
     },
     "metadata": {
      "needs_background": "light"
     },
     "output_type": "display_data"
    }
   ],
   "source": [
    "def runModelAcrossAllFiles(model,lettersTestArray,lettersTestTarget):\n",
    "    modelPrediction = model.predict(lettersTestArray)\n",
    "    calculateAccuracyMetrics(modelPrediction,lettersTestTarget)\n",
    "    plotConfusionMatrix(modelPrediction,lettersTestTarget,\"Signature\")\n",
    "    \n",
    "\n",
    "\n",
    "runModelAcrossAllFiles(model,image_test,target_test)\n",
    "# printAllImagesInDataSetWithPrediction(lettersTestArray[1],lettersTestTarget,model,True,skip=100)"
   ]
  }
 ],
 "metadata": {
  "kernelspec": {
   "display_name": "Python 3",
   "language": "python",
   "name": "python3"
  },
  "language_info": {
   "codemirror_mode": {
    "name": "ipython",
    "version": 3
   },
   "file_extension": ".py",
   "mimetype": "text/x-python",
   "name": "python",
   "nbconvert_exporter": "python",
   "pygments_lexer": "ipython3",
   "version": "3.7.4"
  }
 },
 "nbformat": 4,
 "nbformat_minor": 2
}
