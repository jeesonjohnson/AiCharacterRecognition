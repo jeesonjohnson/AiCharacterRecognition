{
 "cells": [
  {
   "cell_type": "markdown",
   "metadata": {},
   "source": [
    "Based of: https://www.youtube.com/watch?v=kOFUQB7u5Ck\n"
   ]
  },
  {
   "cell_type": "code",
   "execution_count": 3,
   "metadata": {},
   "outputs": [
    {
     "name": "stdout",
     "output_type": "stream",
     "text": [
      "Collecting tensorflow==2.1.0\n",
      "  Using cached tensorflow-2.1.0-cp37-cp37m-manylinux2010_x86_64.whl (421.8 MB)\n",
      "Requirement already satisfied: six>=1.12.0 in /home/jeeson/anaconda3/lib/python3.7/site-packages (from tensorflow==2.1.0) (1.12.0)\n",
      "Requirement already satisfied: protobuf>=3.8.0 in /home/jeeson/anaconda3/lib/python3.7/site-packages (from tensorflow==2.1.0) (3.11.3)\n",
      "Requirement already satisfied: wrapt>=1.11.1 in /home/jeeson/anaconda3/lib/python3.7/site-packages (from tensorflow==2.1.0) (1.11.2)\n",
      "Requirement already satisfied: wheel>=0.26; python_version >= \"3\" in /home/jeeson/anaconda3/lib/python3.7/site-packages (from tensorflow==2.1.0) (0.33.6)\n",
      "Requirement already satisfied: tensorflow-estimator<2.2.0,>=2.1.0rc0 in /home/jeeson/anaconda3/lib/python3.7/site-packages (from tensorflow==2.1.0) (2.1.0)\n",
      "Requirement already satisfied: astor>=0.6.0 in /home/jeeson/anaconda3/lib/python3.7/site-packages (from tensorflow==2.1.0) (0.8.1)\n",
      "Requirement already satisfied: opt-einsum>=2.3.2 in /home/jeeson/anaconda3/lib/python3.7/site-packages (from tensorflow==2.1.0) (3.2.1)\n",
      "Requirement already satisfied: google-pasta>=0.1.6 in /home/jeeson/anaconda3/lib/python3.7/site-packages (from tensorflow==2.1.0) (0.2.0)\n",
      "Requirement already satisfied: tensorboard<2.2.0,>=2.1.0 in /home/jeeson/anaconda3/lib/python3.7/site-packages (from tensorflow==2.1.0) (2.1.1)\n",
      "Requirement already satisfied: scipy==1.4.1; python_version >= \"3\" in /home/jeeson/anaconda3/lib/python3.7/site-packages (from tensorflow==2.1.0) (1.4.1)\n",
      "Requirement already satisfied: keras-applications>=1.0.8 in /home/jeeson/anaconda3/lib/python3.7/site-packages (from tensorflow==2.1.0) (1.0.8)\n",
      "Requirement already satisfied: termcolor>=1.1.0 in /home/jeeson/anaconda3/lib/python3.7/site-packages (from tensorflow==2.1.0) (1.1.0)\n",
      "Requirement already satisfied: keras-preprocessing>=1.1.0 in /home/jeeson/anaconda3/lib/python3.7/site-packages (from tensorflow==2.1.0) (1.1.0)\n",
      "Requirement already satisfied: numpy<2.0,>=1.16.0 in /home/jeeson/anaconda3/lib/python3.7/site-packages (from tensorflow==2.1.0) (1.17.2)\n",
      "Requirement already satisfied: absl-py>=0.7.0 in /home/jeeson/anaconda3/lib/python3.7/site-packages (from tensorflow==2.1.0) (0.9.0)\n",
      "Requirement already satisfied: grpcio>=1.8.6 in /home/jeeson/anaconda3/lib/python3.7/site-packages (from tensorflow==2.1.0) (1.28.1)\n",
      "Requirement already satisfied: gast==0.2.2 in /home/jeeson/anaconda3/lib/python3.7/site-packages (from tensorflow==2.1.0) (0.2.2)\n",
      "Requirement already satisfied: setuptools in /home/jeeson/anaconda3/lib/python3.7/site-packages (from protobuf>=3.8.0->tensorflow==2.1.0) (41.4.0)\n",
      "Requirement already satisfied: google-auth<2,>=1.6.3 in /home/jeeson/anaconda3/lib/python3.7/site-packages (from tensorboard<2.2.0,>=2.1.0->tensorflow==2.1.0) (1.14.1)\n",
      "Requirement already satisfied: markdown>=2.6.8 in /home/jeeson/anaconda3/lib/python3.7/site-packages (from tensorboard<2.2.0,>=2.1.0->tensorflow==2.1.0) (3.2.1)\n",
      "Requirement already satisfied: werkzeug>=0.11.15 in /home/jeeson/anaconda3/lib/python3.7/site-packages (from tensorboard<2.2.0,>=2.1.0->tensorflow==2.1.0) (0.16.0)\n",
      "Requirement already satisfied: requests<3,>=2.21.0 in /home/jeeson/anaconda3/lib/python3.7/site-packages (from tensorboard<2.2.0,>=2.1.0->tensorflow==2.1.0) (2.22.0)\n",
      "Requirement already satisfied: google-auth-oauthlib<0.5,>=0.4.1 in /home/jeeson/anaconda3/lib/python3.7/site-packages (from tensorboard<2.2.0,>=2.1.0->tensorflow==2.1.0) (0.4.1)\n",
      "Requirement already satisfied: h5py in /home/jeeson/anaconda3/lib/python3.7/site-packages (from keras-applications>=1.0.8->tensorflow==2.1.0) (2.9.0)\n",
      "Requirement already satisfied: cachetools<5.0,>=2.0.0 in /home/jeeson/anaconda3/lib/python3.7/site-packages (from google-auth<2,>=1.6.3->tensorboard<2.2.0,>=2.1.0->tensorflow==2.1.0) (4.1.0)\n",
      "Requirement already satisfied: pyasn1-modules>=0.2.1 in /home/jeeson/anaconda3/lib/python3.7/site-packages (from google-auth<2,>=1.6.3->tensorboard<2.2.0,>=2.1.0->tensorflow==2.1.0) (0.2.8)\n",
      "Requirement already satisfied: rsa<4.1,>=3.1.4 in /home/jeeson/anaconda3/lib/python3.7/site-packages (from google-auth<2,>=1.6.3->tensorboard<2.2.0,>=2.1.0->tensorflow==2.1.0) (4.0)\n",
      "Requirement already satisfied: certifi>=2017.4.17 in /home/jeeson/anaconda3/lib/python3.7/site-packages (from requests<3,>=2.21.0->tensorboard<2.2.0,>=2.1.0->tensorflow==2.1.0) (2019.9.11)\n",
      "Requirement already satisfied: chardet<3.1.0,>=3.0.2 in /home/jeeson/anaconda3/lib/python3.7/site-packages (from requests<3,>=2.21.0->tensorboard<2.2.0,>=2.1.0->tensorflow==2.1.0) (3.0.4)\n",
      "Requirement already satisfied: urllib3!=1.25.0,!=1.25.1,<1.26,>=1.21.1 in /home/jeeson/anaconda3/lib/python3.7/site-packages (from requests<3,>=2.21.0->tensorboard<2.2.0,>=2.1.0->tensorflow==2.1.0) (1.24.2)\n",
      "Requirement already satisfied: idna<2.9,>=2.5 in /home/jeeson/anaconda3/lib/python3.7/site-packages (from requests<3,>=2.21.0->tensorboard<2.2.0,>=2.1.0->tensorflow==2.1.0) (2.8)\n",
      "Requirement already satisfied: requests-oauthlib>=0.7.0 in /home/jeeson/anaconda3/lib/python3.7/site-packages (from google-auth-oauthlib<0.5,>=0.4.1->tensorboard<2.2.0,>=2.1.0->tensorflow==2.1.0) (1.3.0)\n",
      "Requirement already satisfied: pyasn1<0.5.0,>=0.4.6 in /home/jeeson/anaconda3/lib/python3.7/site-packages (from pyasn1-modules>=0.2.1->google-auth<2,>=1.6.3->tensorboard<2.2.0,>=2.1.0->tensorflow==2.1.0) (0.4.8)\n",
      "Requirement already satisfied: oauthlib>=3.0.0 in /home/jeeson/anaconda3/lib/python3.7/site-packages (from requests-oauthlib>=0.7.0->google-auth-oauthlib<0.5,>=0.4.1->tensorboard<2.2.0,>=2.1.0->tensorflow==2.1.0) (3.1.0)\n",
      "Installing collected packages: tensorflow\n",
      "Successfully installed tensorflow-2.1.0\n"
     ]
    }
   ],
   "source": [
    "!pip install tensorflow==2.1.0\n",
    "# !pip install tensorflow keras numpy mnist matplotlib"
   ]
  },
  {
   "cell_type": "code",
   "execution_count": 4,
   "metadata": {},
   "outputs": [
    {
     "name": "stderr",
     "output_type": "stream",
     "text": [
      "Using TensorFlow backend.\n"
     ]
    }
   ],
   "source": [
    "import numpy as np\n",
    "import mnist\n",
    "import matplotlib.pyplot as plt\n",
    "from keras.models import Sequential\n",
    "from keras.layers import Dense\n",
    "from keras.utils import to_categorical"
   ]
  },
  {
   "cell_type": "code",
   "execution_count": 5,
   "metadata": {},
   "outputs": [
    {
     "name": "stdout",
     "output_type": "stream",
     "text": [
      "Train images Shape (60000, 28, 28)\n",
      "Train Target Shape (60000,)\n",
      "Test images Shape (10000, 28, 28)\n",
      "Test Target Shape (10000,)\n"
     ]
    }
   ],
   "source": [
    "train_images = mnist.train_images()\n",
    "train_labels = mnist.train_labels()\n",
    "\n",
    "test_images = mnist.test_images()\n",
    "test_labels = mnist.test_labels()\n",
    "print(f\"Train images Shape {train_images.shape}\")\n",
    "# print(f\"Train images values {train_images[0]}\\n\")\n",
    "print(f\"Train Target Shape {train_labels.shape}\")\n",
    "# print(f\"Train target values  {train_labels[0]}\\n\")\n",
    "\n",
    "print(f\"Test images Shape {test_images.shape}\")\n",
    "# print(f\"Test images values {test_images[0]}\\n\")\n",
    "print(f\"Test Target Shape {test_labels.shape}\")\n",
    "# print(f\"Test Target values {test_labels[0]}\\n\")"
   ]
  },
  {
   "cell_type": "code",
   "execution_count": 6,
   "metadata": {},
   "outputs": [
    {
     "name": "stdout",
     "output_type": "stream",
     "text": [
      "(60000, 784)\n",
      "(10000, 784)\n"
     ]
    }
   ],
   "source": [
    "##Normalise the images, the pixle values from [0,255] to [-0.5,0.5], to make network easier to train\n",
    "train_images=(train_images/255)-0.5\n",
    "test_images=(test_images/255)-0.5\n",
    "\n",
    "##We need to flatten the image to one dimension \n",
    "train_images=train_images.reshape((-1,784))##784 since image is 26x26\n",
    "test_images = test_images.reshape((-1,784))\n",
    "\n",
    "print(train_images.shape)\n",
    "print(test_images.shape)"
   ]
  },
  {
   "cell_type": "code",
   "execution_count": 7,
   "metadata": {},
   "outputs": [],
   "source": [
    "## Building the model, with  3 total layers, and 2 hidden layers with 64 neurons each,\n",
    "## The activation function being used is the relu function\n",
    "# The output layer has 10 neurons as the output since 10 digits, using softmax\n",
    "model = Sequential()\n",
    "model.add(Dense(64,activation=\"relu\",input_dim=784))##Note we only provide the input dim here since this is first layer\n",
    "model.add(Dense(64,activation=\"relu\"))\n",
    "model.add(Dense(10,activation=\"softmax\"))##Remember 10 for number of output vlaues"
   ]
  },
  {
   "cell_type": "code",
   "execution_count": 8,
   "metadata": {},
   "outputs": [],
   "source": [
    "##The loss function measure the error of the function\n",
    "## The optimizer is responsible for tryign to correct the errors present\n",
    "model.compile(optimizer=\"adam\",\n",
    "             loss=\"categorical_crossentropy\",\n",
    "             metrics=[\"accuracy\"])"
   ]
  },
  {
   "cell_type": "code",
   "execution_count": null,
   "metadata": {},
   "outputs": [],
   "source": []
  },
  {
   "cell_type": "code",
   "execution_count": null,
   "metadata": {},
   "outputs": [],
   "source": []
  }
 ],
 "metadata": {
  "kernelspec": {
   "display_name": "Python 3",
   "language": "python",
   "name": "python3"
  },
  "language_info": {
   "codemirror_mode": {
    "name": "ipython",
    "version": 3
   },
   "file_extension": ".py",
   "mimetype": "text/x-python",
   "name": "python",
   "nbconvert_exporter": "python",
   "pygments_lexer": "ipython3",
   "version": "3.7.4"
  }
 },
 "nbformat": 4,
 "nbformat_minor": 2
}
